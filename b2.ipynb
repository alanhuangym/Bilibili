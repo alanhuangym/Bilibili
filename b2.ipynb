{
 "cells": [
  {
   "cell_type": "code",
   "execution_count": 1,
   "metadata": {
    "collapsed": false
   },
   "outputs": [
    {
     "data": {
      "text/plain": [
       "u'VideoID_1'"
      ]
     },
     "execution_count": 1,
     "metadata": {},
     "output_type": "execute_result"
    }
   ],
   "source": [
    "import pymongo\n",
    "client = pymongo.MongoClient(\"localhost\", 27017) # Connect to the db server\n",
    "db = client.bilibili\n",
    "db1 = db['videos0-5m+']\n",
    "db1.create_index((\"VideoID\"),unique=True)"
   ]
  },
  {
   "cell_type": "code",
   "execution_count": 2,
   "metadata": {
    "collapsed": true
   },
   "outputs": [],
   "source": [
    "urls = []\n",
    "for i in range(0,1000000):\n",
    "    url = 'http://bilibili.com/video/av' + str(i)\n",
    "    urls.append(url)"
   ]
  },
  {
   "cell_type": "code",
   "execution_count": 3,
   "metadata": {
    "collapsed": false
   },
   "outputs": [],
   "source": [
    "# -*-coding:utf8-*-\n",
    "\n",
    "from lxml import etree\n",
    "from multiprocessing.dummy import Pool as ThreadPool\n",
    "import requests\n",
    "import time\n",
    "import sys\n",
    "import re\n",
    "import json\n",
    "\n",
    "\n",
    "reload(sys)\n",
    "\n",
    "sys.setdefaultencoding('utf-8')\n",
    "\n",
    "# id av cid title tminfo time click danmu coins favourites duration honor_click honor_coins honor_favourites\n",
    "# mid name article fans tags[3] common\n",
    "\n",
    "\n",
    "head = {\n",
    "    'User-Agent': 'Mozilla/5.0 (Windows NT 6.3; WOW64) AppleWebKit/537.36 (KHTML, like Gecko) Chrome/43.0.2357.130 Safari/537.36'\n",
    "}\n",
    "\n",
    "def spider(url):\n",
    "    html = requests.get(url, headers=head)\n",
    "    selector = etree.HTML(html.text)\n",
    "    content = selector.xpath(\"//html\")\n",
    "    for each in content:\n",
    "        title = each.xpath('//div[@class=\"v-title\"]/h1/@title')\n",
    "        if title:\n",
    "            av = url.replace(\"http://bilibili.com/video/av\", \"\")\n",
    "            title = title[0]\n",
    "            tminfo1_log = each.xpath('//div[@class=\"tminfo\"]/a/text()')\n",
    "            tminfo2_log = each.xpath('//div[@class=\"tminfo\"]/span[1]/a/text()')\n",
    "            tminfo3_log = each.xpath('//div[@class=\"tminfo\"]/span[2]/a/text()')\n",
    "            if tminfo1_log:\n",
    "                tminfo1 = tminfo1_log[0]\n",
    "            else:\n",
    "                tminfo1 = \"\"\n",
    "            if tminfo2_log:\n",
    "                tminfo2 = tminfo2_log[0]\n",
    "            else:\n",
    "                tminfo2 = \"\"\n",
    "            if tminfo3_log:\n",
    "                tminfo3 = tminfo3_log[0]\n",
    "            else:\n",
    "                tminfo3 = \"\"\n",
    "            tminfo = tminfo1 + '-' + tminfo2 + '-' + tminfo3\n",
    "            time_log = each.xpath('//div[@class=\"tminfo\"]/time/i/text()')\n",
    "            mid_log = each.xpath('//div[@class=\"usname\"]/a/@mid')\n",
    "            username_log = each.xpath('//div[@class=\"usname\"]/a/@title')\n",
    "            if time_log:\n",
    "                time = time_log[0]\n",
    "            else:\n",
    "                time = \"\"\n",
    "            if mid_log:\n",
    "                mid = mid_log[0]\n",
    "            else:\n",
    "                mid = \"\"\n",
    "            if username_log:\n",
    "                username = username_log[0]\n",
    "            else:\n",
    "                username = \"\"\n",
    "\n",
    "            cid_html_1 = each.xpath('//div[@class=\"scontent\"]/iframe/@src')\n",
    "            cid_html_2 = each.xpath('//div[@class=\"scontent\"]/script/text()')\n",
    "            if cid_html_1 or cid_html_2:\n",
    "                if cid_html_1:\n",
    "                    cid_html = cid_html_1[0]\n",
    "                else:\n",
    "                    cid_html = cid_html_2[0]\n",
    "\n",
    "                cids = re.findall(r'cid=.+&aid', cid_html)\n",
    "                cid = cids[0].replace(\"cid=\", \"\").replace(\"&aid\", \"\")\n",
    "                info_url = \"http://interface.bilibili.com/player?id=cid:\" + str(cid) + \"&aid=\" + av\n",
    "                video_info = requests.get(info_url)\n",
    "                video_selector = etree.HTML(video_info.text)\n",
    "                for video_each in video_selector:\n",
    "                    click_log = video_each.xpath('//click/text()')\n",
    "                    duration_log = video_each.xpath('//duration/text()')\n",
    "                    if click_log:\n",
    "                        click = click_log[0]\n",
    "                    else:\n",
    "                        click = -1\n",
    "                    if duration_log:\n",
    "                        duration = duration_log[0]\n",
    "                    else:\n",
    "                        duration = \"\"\n",
    "                try:\n",
    "                    video = {'VideoID':str(av), 'cid':cid, 'title':title, 'catalog':tminfo, 'time':time, 'click':click,\n",
    "                            'duration':duration, 'posterid':mid, 'postername':username}\n",
    "                    db1.insert_one(video)\n",
    "                    \n",
    "                except :\n",
    "                    print \"Error \"\n",
    "                print \"Succeed: av\" + str(av)\n",
    "            else:\n",
    "                print \"Error_noCid:\" + url\n",
    "        else:\n",
    "            print \"Error_404: \" + url\n",
    "\n",
    "\n"
   ]
  },
  {
   "cell_type": "code",
   "execution_count": null,
   "metadata": {
    "collapsed": false
   },
   "outputs": [],
   "source": [
    "for i in range(3,10000):\n",
    "    urls = []\n",
    "    a = (0+100*(i-1))\n",
    "    b = (0+100*(i))\n",
    "    for k in range(a,b):\n",
    "        url = 'http://bilibili.com/video/av' + str(k)\n",
    "        urls.append(url)\n",
    "    print a,'to',b,'has been crawled'\n",
    "    pool = ThreadPool(8)\n",
    "    try:\n",
    "        results = pool.map(spider, urls)\n",
    "    except Exception, e:\n",
    "        print e\n",
    "        time.sleep(300)\n",
    "        results = pool.map(spider, urls)\n",
    "    pool.close()\n",
    "    pool.join()"
   ]
  },
  {
   "cell_type": "code",
   "execution_count": 4,
   "metadata": {
    "collapsed": false
   },
   "outputs": [
    {
     "ename": "IndexError",
     "evalue": "list index out of range",
     "output_type": "error",
     "traceback": [
      "\u001b[0;31m---------------------------------------------------------------------------\u001b[0m",
      "\u001b[0;31mIndexError\u001b[0m                                Traceback (most recent call last)",
      "\u001b[0;32m<ipython-input-4-589b690426c0>\u001b[0m in \u001b[0;36m<module>\u001b[0;34m()\u001b[0m\n\u001b[1;32m      5\u001b[0m     \u001b[1;32mprint\u001b[0m \u001b[0me\u001b[0m\u001b[1;33m\u001b[0m\u001b[0m\n\u001b[1;32m      6\u001b[0m     \u001b[0mtime\u001b[0m\u001b[1;33m.\u001b[0m\u001b[0msleep\u001b[0m\u001b[1;33m(\u001b[0m\u001b[1;36m300\u001b[0m\u001b[1;33m)\u001b[0m\u001b[1;33m\u001b[0m\u001b[0m\n\u001b[0;32m----> 7\u001b[0;31m     \u001b[0mresults\u001b[0m \u001b[1;33m=\u001b[0m \u001b[0mpool\u001b[0m\u001b[1;33m.\u001b[0m\u001b[0mmap\u001b[0m\u001b[1;33m(\u001b[0m\u001b[0mspider\u001b[0m\u001b[1;33m,\u001b[0m \u001b[0murls\u001b[0m\u001b[1;33m)\u001b[0m\u001b[1;33m\u001b[0m\u001b[0m\n\u001b[0m\u001b[1;32m      8\u001b[0m \u001b[0mpool\u001b[0m\u001b[1;33m.\u001b[0m\u001b[0mclose\u001b[0m\u001b[1;33m(\u001b[0m\u001b[1;33m)\u001b[0m\u001b[1;33m\u001b[0m\u001b[0m\n\u001b[1;32m      9\u001b[0m \u001b[0mpool\u001b[0m\u001b[1;33m.\u001b[0m\u001b[0mjoin\u001b[0m\u001b[1;33m(\u001b[0m\u001b[1;33m)\u001b[0m\u001b[1;33m\u001b[0m\u001b[0m\n",
      "\u001b[0;32md:\\ProgramData\\Anaconda3\\envs\\python27\\lib\\multiprocessing\\pool.pyc\u001b[0m in \u001b[0;36mmap\u001b[0;34m(self, func, iterable, chunksize)\u001b[0m\n\u001b[1;32m    249\u001b[0m         '''\n\u001b[1;32m    250\u001b[0m         \u001b[1;32massert\u001b[0m \u001b[0mself\u001b[0m\u001b[1;33m.\u001b[0m\u001b[0m_state\u001b[0m \u001b[1;33m==\u001b[0m \u001b[0mRUN\u001b[0m\u001b[1;33m\u001b[0m\u001b[0m\n\u001b[0;32m--> 251\u001b[0;31m         \u001b[1;32mreturn\u001b[0m \u001b[0mself\u001b[0m\u001b[1;33m.\u001b[0m\u001b[0mmap_async\u001b[0m\u001b[1;33m(\u001b[0m\u001b[0mfunc\u001b[0m\u001b[1;33m,\u001b[0m \u001b[0miterable\u001b[0m\u001b[1;33m,\u001b[0m \u001b[0mchunksize\u001b[0m\u001b[1;33m)\u001b[0m\u001b[1;33m.\u001b[0m\u001b[0mget\u001b[0m\u001b[1;33m(\u001b[0m\u001b[1;33m)\u001b[0m\u001b[1;33m\u001b[0m\u001b[0m\n\u001b[0m\u001b[1;32m    252\u001b[0m \u001b[1;33m\u001b[0m\u001b[0m\n\u001b[1;32m    253\u001b[0m     \u001b[1;32mdef\u001b[0m \u001b[0mimap\u001b[0m\u001b[1;33m(\u001b[0m\u001b[0mself\u001b[0m\u001b[1;33m,\u001b[0m \u001b[0mfunc\u001b[0m\u001b[1;33m,\u001b[0m \u001b[0miterable\u001b[0m\u001b[1;33m,\u001b[0m \u001b[0mchunksize\u001b[0m\u001b[1;33m=\u001b[0m\u001b[1;36m1\u001b[0m\u001b[1;33m)\u001b[0m\u001b[1;33m:\u001b[0m\u001b[1;33m\u001b[0m\u001b[0m\n",
      "\u001b[0;32md:\\ProgramData\\Anaconda3\\envs\\python27\\lib\\multiprocessing\\pool.pyc\u001b[0m in \u001b[0;36mget\u001b[0;34m(self, timeout)\u001b[0m\n\u001b[1;32m    565\u001b[0m             \u001b[1;32mreturn\u001b[0m \u001b[0mself\u001b[0m\u001b[1;33m.\u001b[0m\u001b[0m_value\u001b[0m\u001b[1;33m\u001b[0m\u001b[0m\n\u001b[1;32m    566\u001b[0m         \u001b[1;32melse\u001b[0m\u001b[1;33m:\u001b[0m\u001b[1;33m\u001b[0m\u001b[0m\n\u001b[0;32m--> 567\u001b[0;31m             \u001b[1;32mraise\u001b[0m \u001b[0mself\u001b[0m\u001b[1;33m.\u001b[0m\u001b[0m_value\u001b[0m\u001b[1;33m\u001b[0m\u001b[0m\n\u001b[0m\u001b[1;32m    568\u001b[0m \u001b[1;33m\u001b[0m\u001b[0m\n\u001b[1;32m    569\u001b[0m     \u001b[1;32mdef\u001b[0m \u001b[0m_set\u001b[0m\u001b[1;33m(\u001b[0m\u001b[0mself\u001b[0m\u001b[1;33m,\u001b[0m \u001b[0mi\u001b[0m\u001b[1;33m,\u001b[0m \u001b[0mobj\u001b[0m\u001b[1;33m)\u001b[0m\u001b[1;33m:\u001b[0m\u001b[1;33m\u001b[0m\u001b[0m\n",
      "\u001b[0;31mIndexError\u001b[0m: list index out of range"
     ]
    }
   ],
   "source": [
    "pool = ThreadPool(8)\n",
    "try:\n",
    "    results = pool.map(spider, urls)\n",
    "except Exception, e:\n",
    "    print e\n",
    "    time.sleep(300)\n",
    "    results = pool.map(spider, urls)\n",
    "pool.close()\n",
    "pool.join()"
   ]
  },
  {
   "cell_type": "code",
   "execution_count": null,
   "metadata": {
    "collapsed": true
   },
   "outputs": [],
   "source": []
  }
 ],
 "metadata": {
  "kernelspec": {
   "display_name": "Python 2",
   "language": "python",
   "name": "python2"
  },
  "language_info": {
   "codemirror_mode": {
    "name": "ipython",
    "version": 2
   },
   "file_extension": ".py",
   "mimetype": "text/x-python",
   "name": "python",
   "nbconvert_exporter": "python",
   "pygments_lexer": "ipython2",
   "version": "2.7.13"
  }
 },
 "nbformat": 4,
 "nbformat_minor": 2
}

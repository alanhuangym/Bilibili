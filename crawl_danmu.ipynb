{
 "cells": [
  {
   "cell_type": "code",
   "execution_count": 1,
   "metadata": {
    "collapsed": true
   },
   "outputs": [],
   "source": [
    "import pymongo\n",
    "client = pymongo.MongoClient(\"localhost\", 27017) # Connect to the db server\n",
    "db = client.bilibili\n",
    "db1 = db['videos7m-8m-non-duplicate']\n",
    "db2 = db['danmu']"
   ]
  },
  {
   "cell_type": "code",
   "execution_count": 2,
   "metadata": {
    "collapsed": true
   },
   "outputs": [],
   "source": [
    "urls = list()\n",
    "for video in db1.find():\n",
    "    url = 'http://comment.bilibili.tv/%s.xml' % video['cid']\n",
    "    urls.append(url)"
   ]
  },
  {
   "cell_type": "code",
   "execution_count": 3,
   "metadata": {
    "collapsed": false
   },
   "outputs": [],
   "source": [
    "import requests\n",
    "import xml.etree.ElementTree as ET\n",
    "import re\n",
    "\n",
    "p = re.compile(r'http://comment.bilibili.tv/(\\d+).xml')\n",
    "def crwal_danmu(url):\n",
    "    with requests.Session() as s:\n",
    "        html = s.get(url)\n",
    "    tree = ET.fromstring(html.content)\n",
    "    for child in tree:\n",
    "        if child.tag == 'd':\n",
    "            cid = p.match(url).group(1)\n",
    "            content = child.text\n",
    "            index = child.attrib['p'].split(',')\n",
    "            time = index[0]\n",
    "            mode = index[1]\n",
    "            fontsize = index[2]\n",
    "            fontcolor = index[3]\n",
    "            timeslot = index[4]\n",
    "            danmupool = index[5]\n",
    "            userid = index[6]\n",
    "            danmuid = index[7]\n",
    "            if db2.find_one({'danmuid':danmuid}):\n",
    "                db2.update_one({'danmuid':danmuid},{'$set':{'cid':cid}})\n",
    "            else:\n",
    "                try:\n",
    "                    danmu_content = {'cid':cid ,'content':content, 'time':time, 'mode':mode, 'fontsize':fontsize,\n",
    "                                    'fontcolor':fontcolor, 'timeslot':timeslot, 'danmupool':danmupool,\n",
    "                                    'userid':userid, 'danmuid':danmuid}\n",
    "                    db2.insert_one(danmu_content)\n",
    "                except :\n",
    "                    pass"
   ]
  },
  {
   "cell_type": "code",
   "execution_count": 4,
   "metadata": {
    "collapsed": false
   },
   "outputs": [
    {
     "name": "stdout",
     "output_type": "stream",
     "text": [
      "not well-formed (invalid token): line 408, column 70\n"
     ]
    },
    {
     "ename": "ParseError",
     "evalue": "not well-formed (invalid token): line 408, column 70",
     "output_type": "error",
     "traceback": [
      "\u001b[0;36m  File \u001b[0;32m\"<string>\"\u001b[0;36m, line \u001b[0;32munknown\u001b[0m\n\u001b[0;31mParseError\u001b[0m\u001b[0;31m:\u001b[0m not well-formed (invalid token): line 408, column 70\n"
     ]
    }
   ],
   "source": [
    "\n",
    "from multiprocessing.dummy import Pool as ThreadPool\n",
    "import time\n",
    "\n",
    "pool = ThreadPool(8)\n",
    "try:\n",
    "    results = pool.map(crwal_danmu, urls)\n",
    "except Exception, e:\n",
    "    print e\n",
    "    time.sleep(300)\n",
    "    results = pool.map(crwal_danmu, urls)\n",
    "\n",
    "pool.close()\n",
    "pool.join()"
   ]
  },
  {
   "cell_type": "code",
   "execution_count": null,
   "metadata": {
    "collapsed": false
   },
   "outputs": [],
   "source": [
    "print 'succeed'"
   ]
  },
  {
   "cell_type": "code",
   "execution_count": null,
   "metadata": {
    "collapsed": true
   },
   "outputs": [],
   "source": [
    "root = etree.Element('root')"
   ]
  },
  {
   "cell_type": "code",
   "execution_count": null,
   "metadata": {
    "collapsed": true
   },
   "outputs": [],
   "source": [
    "['ASCII_SPACES', 'DEFAULT_BUILDER_FEATURES', 'HTML_FORMATTERS', 'NO_PARSER_SPECIFIED_WARNING', 'ROOT_TAG_NAME', 'XML_FORMATTERS', '__call__', '__class__', '__contains__', '__copy__', '__delattr__', '__delitem__', '__dict__', '__doc__', '__eq__', '__format__', '__getattr__', '__getattribute__', '__getitem__', '__getstate__', '__hash__', '__init__', '__iter__', '__len__', '__module__', '__ne__', '__new__', '__nonzero__', '__reduce__', '__reduce_ex__', '__repr__', '__setattr__', '__setitem__', '__sizeof__', '__str__', '__subclasshook__', '__unicode__', '__weakref__', '_all_strings', '_attr_value_as_string', '_attribute_checker', '_check_markup_is_url', '_feed', '_find_all', '_find_one', '_formatter_for_name', '_is_xml', '_lastRecursiveChild', '_last_descendant', '_most_recent_element', '_popToTag', '_select_debug', '_selector_combinators', '_should_pretty_print', '_tag_name_matches_and', 'append', 'attribselect_re', 'attrs', 'builder', 'can_be_empty_element', 'childGenerator', 'children', 'clear', 'contains_replacement_characters', 'contents', 'currentTag', 'current_data', 'declared_html_encoding', 'decode', 'decode_contents', 'decompose', 'descendants', 'encode', 'encode_contents', 'endData', 'extract', 'fetchNextSiblings', 'fetchParents', 'fetchPrevious', 'fetchPreviousSiblings', 'find', 'findAll', 'findAllNext', 'findAllPrevious', 'findChild', 'findChildren', 'findNext', 'findNextSibling', 'findNextSiblings', 'findParent', 'findParents', 'findPrevious', 'findPreviousSibling', 'findPreviousSiblings', 'find_all', 'find_all_next', 'find_all_previous', 'find_next', 'find_next_sibling', 'find_next_siblings', 'find_parent', 'find_parents', 'find_previous', 'find_previous_sibling', 'find_previous_siblings', 'format_string', 'get', 'getText', 'get_text', 'handle_data', 'handle_endtag', 'handle_starttag', 'has_attr', 'has_key', 'hidden', 'index', 'insert', 'insert_after', 'insert_before', 'isSelfClosing', 'is_empty_element', 'is_xml', 'known_xml', 'markup', 'name', 'namespace', 'new_string', 'new_tag', 'next', 'nextGenerator', 'nextSibling', 'nextSiblingGenerator', 'next_element', 'next_elements', 'next_sibling', 'next_siblings', 'object_was_parsed', 'original_encoding', 'parent', 'parentGenerator', 'parents', 'parse_only', 'parserClass', 'parser_class', 'popTag', 'prefix', 'preserve_whitespace_tag_stack', 'preserve_whitespace_tags', 'prettify', 'previous', 'previousGenerator', 'previousSibling', 'previousSiblingGenerator', 'previous_element', 'previous_elements', 'previous_sibling', 'previous_siblings', 'pushTag', 'quoted_colon', 'recursiveChildGenerator', 'renderContents', 'replaceWith', 'replaceWithChildren', 'replace_with', 'replace_with_children', 'reset', 'select', 'select_one', 'setup', 'string', 'strings', 'stripped_strings', 'tagStack', 'tag_name_re', 'text', 'unwrap', 'wrap']s"
   ]
  },
  {
   "cell_type": "code",
   "execution_count": 91,
   "metadata": {
    "collapsed": true
   },
   "outputs": [],
   "source": [
    "try:\n",
    "    import xml.etree.cElementTree as ET\n",
    "except ImportError:\n",
    "    import xml.etree.ElementTree as ET"
   ]
  },
  {
   "cell_type": "code",
   "execution_count": 94,
   "metadata": {
    "collapsed": true
   },
   "outputs": [],
   "source": [
    "import xml.etree.ElementTree as ET\n",
    "tree = ET.ElementTree(html.content)"
   ]
  },
  {
   "cell_type": "code",
   "execution_count": 95,
   "metadata": {
    "collapsed": false
   },
   "outputs": [
    {
     "data": {
      "text/plain": [
       "'<?xml version=\"1.0\" encoding=\"UTF-8\"?><i><chatserver>chat.bilibili.com</chatserver><chatid>11621056</chatid><mission>0</mission><maxlimit>1000</maxlimit><source>e-r</source><ds>2666964453</ds><de>2998162310</de><max_count>1000</max_count><d p=\"9.579,1,25,16777215,1479304228,0,64996130,2666964453\">\\xe4\\xbb\\x80\\xe4\\xb9\\x88\\xe9\\xac\\xbc</d>\\r\\n<d p=\"42.193,1,25,16777215,1479310069,0,f9eda64f,2667293453\">\\xe5\\x96\\x9c\\xe6\\xac\\xa2\\xe8\\xb5\\xb5\\xe6\\x96\\x87\\xe5\\x8d\\x93\\xe5\\x95\\x8a</d>\\r\\n<d p=\"52.139,1,25,16777215,1479376637,0,f8b1dc65,2668652215\">\\xe8\\x80\\x81\\xe5\\x85\\xac</d>\\r\\n<d p=\"131.934,1,25,16777215,1479376717,0,f8b1dc65,2668655337\">\\xe5\\xa5\\xbd\\xe5\\xb8\\x85</d>\\r\\n<d p=\"50.652,1,25,16777215,1479387284,0,60f9eb87,2669137613\">\\xe8\\xb5\\xb5\\xe6\\x96\\x87\\xe5\\x8d\\x93\\xe5\\xbd\\x93\\xe5\\xb9\\xb4\\xe5\\xb8\\x85\\xe7\\x9a\\x84\\xe4\\xb8\\x8d\\xe8\\xa1\\x8c\\xe5\\x95\\x8a</d>\\r\\n<d p=\"56.878,1,25,16777215,1479431810,0,cdbba93a,2670190195\">\\xe8\\xb5\\xb5\\xe6\\x96\\x87\\xe5\\x8d\\x93\\xe4\\xbb\\x8e\\xe5\\xb0\\x8f\\xe5\\xb0\\xb1\\xe6\\x98\\xaf\\xe6\\x88\\x91\\xe7\\x94\\xb7\\xe7\\xa5\\x9e\\xe5\\x91\\x90</d>\\r\\n<d p=\"71.483,1,25,16777215,1479431807,0,cdbba93a,2670190401\">\\xe7\\x88\\xb1\\xe4\\xb8\\x8a\\xe8\\xb5\\xb5\\xe6\\x96\\x87\\xe5\\x8d\\x93\\xe6\\x98\\xaf\\xe5\\x9b\\xa0\\xe4\\xb8\\xba\\xe8\\x81\\x82\\xe9\\xa3\\x8e</d>\\r\\n<d p=\"23.4569,1,25,16777215,1479453241,0,ec4172fb,2670865637\">\\xe9\\x9d\\x92\\xe8\\x9b\\x87</d>\\r\\n<d p=\"20.408,1,25,16777215,1479544539,0,522a5af3,2674551189\">\\xe9\\x9d\\x92\\xe8\\x9b\\x87</d>\\r\\n<d p=\"50.143,1,25,16777215,1479556579,0,52c1c3e8,2675290545\">\\xe8\\xbf\\x99\\xe4\\xb8\\xaa\\xe6\\xb3\\x95\\xe6\\xb5\\xb7\\xe6\\x9c\\x89\\xe7\\x82\\xb9\\xe5\\xb8\\x85</d>\\r\\n<d p=\"201.965,1,25,16777215,1479557034,0,a03201df,2675320741\">\\xe5\\x90\\xac\\xe6\\x88\\x91\\xe8\\xa7\\xa3\\xe9\\x87\\x8a</d>\\r\\n<d p=\"135.845,1,25,16777215,1479560049,0,643727e0,2675544495\">\\xe4\\xbb\\x80\\xe4\\xb9\\x88\\xe7\\x94\\xb5\\xe5\\xbd\\xb1\\xef\\xbc\\x9f\\xef\\xbc\\x9f\\xe5\\xb0\\xb1\\xe6\\x83\\xb3\\xe7\\x9f\\xa5\\xe9\\x81\\x93</d>\\r\\n<d p=\"28.015,1,25,16777215,1479560664,0,58f536b8,2675589355\">\\xe9\\x9d\\x92\\xe8\\x9b\\x87</d>\\r\\n<d p=\"30.987,1,25,16777215,1479560679,0,58f536b8,2675590469\">\\xe7\\x8e\\x8b\\xe7\\xa5\\x96\\xe8\\xb4\\xa4\\xef\\xbc\\x81</d>\\r\\n<d p=\"47.241,1,25,16777215,1479560706,0,58f536b8,2675593757\">+1\\xe5\\x96\\x9c\\xe6\\xac\\xa2\\xe8\\xb5\\xb5\\xe6\\x96\\x87\\xe5\\x8d\\x93</d>\\r\\n<d p=\"159.854,1,25,16777215,1479563841,0,a947488b,2675834043\">\\xe9\\x9d\\x92\\xe8\\x9b\\x87</d>\\r\\n<d p=\"32.843,1,25,16777215,1479569954,0,74d188fa,2676318389\">\\xe5\\xa5\\xb3\\xe7\\xa5\\x9e</d>\\r\\n<d p=\"142.258,1,25,16777215,1479991768,0,6d4398aa,2690154125\">\\xe9\\x9d\\x92\\xe8\\x9b\\x87</d>\\r\\n<d p=\"145.885,1,25,16777215,1479992051,0,05131294,2690167439\">\\xe5\\xb0\\xb1\\xe5\\x8f\\xab\\xe9\\x9d\\x92\\xe8\\x9b\\x87</d>\\r\\n<d p=\"196.295,1,25,16777215,1479992320,0,5beed599,2690180639\">\\xe7\\x8e\\xb0\\xe5\\x9c\\xa8\\xe7\\x9c\\x8b\\xe7\\x9d\\x80\\xe6\\x84\\x9f\\xe8\\xa7\\x89\\xe5\\xa5\\xbd\\xe4\\xb8\\xad\\xe4\\xba\\x8c0.0\\xe4\\xb8\\xba\\xe4\\xbb\\x80\\xe4\\xb9\\x88\\xe5\\x91\\xa2</d>\\r\\n<d p=\"62.039,1,25,16777215,1479992409,0,28881b82,2690185203\">\\xe8\\xbf\\x98\\xe4\\xbb\\xa5\\xe4\\xb8\\xba\\xe6\\x98\\xaf\\xe5\\x94\\x90\\xe5\\x83\\xa7\\xe5\\x91\\xa2</d>\\r\\n<d p=\"134.584,1,25,16777215,1480066057,0,0337f311,2692402485\">\\xe4\\xba\\x94\\xe6\\xaf\\x9b\\xe7\\x89\\xb9\\xe6\\x95\\x88</d>\\r\\n<d p=\"9.053,1,25,16777215,1480255581,0,1c25e0e2,2700462753\">\\xe9\\x9d\\x92\\xe8\\x9b\\x87...</d>\\r\\n<d p=\"143.68,1,25,0,1480255768,0,6088d01d,2700474167\">\\xe9\\x9d\\x92\\xe8\\x9b\\x87</d>\\r\\n<d p=\"15.7621,1,25,16777215,1480258171,0,a3cc3fdb,2700623675\">\\xe8\\xbf\\x99\\xe6\\x98\\xaf\\xe4\\xbb\\x96\\xe7\\x9a\\x84\\xe7\\xac\\xac\\xe4\\xb8\\x80\\xe9\\x83\\xa8\\xef\\xbc\\x9f</d>\\r\\n<d p=\"225.826,1,25,16777215,1480412347,0,16cbbd7d,2704534175\">\\xe6\\xb0\\xb4\\xe6\\xbc\\xab\\xe8\\xa5\\xbf\\xe6\\xb9\\x96</d>\\r\\n<d p=\"35.079,1,25,16777215,1480591207,0,7b8b8d27,2709586411\">\\xe4\\xb8\\x8d\\xe6\\x98\\xaf\\xe7\\xac\\xac\\xe4\\xb8\\x80\\xe9\\x83\\xa8</d>\\r\\n<d p=\"96.882,1,25,16777215,1480591257,0,7b8b8d27,2709589455\">\\xe5\\x8d\\x93\\xe5\\x93\\xa5\\xe7\\x9a\\x84\\xe7\\xac\\xac\\xe4\\xb8\\x80\\xe9\\x83\\xa8\\xe7\\x94\\xb5\\xe5\\xbd\\xb1\\xe6\\x98\\xaf\\xe6\\x96\\xb9\\xe4\\xb8\\x96\\xe7\\x8e\\x89\\xe5\\x92\\x8c\\xe9\\xbb\\x84\\xe9\\xa3\\x9e\\xe9\\xb8\\xbf4</d>\\r\\n<d p=\"139.36,1,25,16777215,1481281824,0,9e90e5c4,2732890449\">\\xe9\\x9d\\x92\\xe8\\x9b\\x87</d>\\r\\n<d p=\"43.721,1,25,16777215,1481281888,0,ca988dce,2732895111\">\\xe4\\xb8\\x8d\\xe4\\xbc\\x9a\\xe5\\x90\\xa7\\xef\\xbc\\x8c\\xe9\\x82\\xa3\\xe4\\xbb\\x96\\xe7\\x9c\\x9f\\xe7\\x9a\\x84\\xe5\\xa5\\xbd\\xe8\\x80\\x81\\xe6\\x88\\x90\\xe5\\x95\\x8a</d>\\r\\n<d p=\"18.763,1,25,16777215,1481516342,0,50aebaf2,2742195225\">\\xe6\\xb3\\x95\\xe6\\xb5\\xb7</d>\\r\\n<d p=\"79.5,1,25,16777215,1481632429,0,784d2d6c,2746040269\">\\xe5\\x90\\x8c\\xe5\\x9b\\xa0\\xe4\\xb8\\xba\\xe8\\x81\\x82\\xe9\\xa3\\x8e\\xe7\\x88\\xb1\\xe4\\xb8\\x8a\\xe8\\xb5\\xb5\\xe6\\x96\\x87\\xe5\\x8d\\x93</d>\\r\\n<d p=\"36.194,1,25,16777215,1482386495,0,14762f6b,2771132251\">\\xe6\\x88\\x91\\xe4\\xb8\\x8d\\xe4\\xbf\\xa1\\xe4\\xbb\\x96\\xe5\\xbd\\x93\\xe6\\x97\\xb6\\xe6\\xb2\\xa1\\xe6\\x9c\\x8920\\xe5\\xb2\\x81\\xef\\xbc\\x81</d>\\r\\n<d p=\"28.847,1,25,16777215,1482386777,0,a606bebd,2771141307\">\\xe9\\x9d\\x92\\xe8\\x9b\\x87</d>\\r\\n<d p=\"110.539,1,25,16777215,1486034749,0,0c8f1e2a,2941130284\">\\xe9\\x82\\xa3\\xe6\\x97\\xb6\\xe8\\xbf\\x98\\xe6\\xb2\\xa1\\xe6\\x9c\\x89\\xe7\\x89\\xb9\\xe6\\x95\\x88\\xe9\\x83\\xbd\\xe6\\x98\\xaf\\xe7\\x9c\\x9f\\xe5\\xae\\x9e\\xe5\\x9c\\xba\\xe6\\x99\\xaf\\xe6\\x90\\xad\\xe5\\xbb\\xba</d>\\r\\n<d p=\"118.418,1,25,16777215,1486948327,0,16c978f8,2998162310\">\\xe4\\xbb\\x96\\xe7\\xac\\xac\\xe4\\xb8\\x80\\xe9\\x83\\xa8\\xe6\\x98\\xaf\\xe9\\xbb\\x84\\xe9\\xa3\\x9e\\xe9\\xb8\\xbf</d>\\r\\n</i>'"
      ]
     },
     "execution_count": 95,
     "metadata": {},
     "output_type": "execute_result"
    }
   ],
   "source": [
    "tree.getroot()"
   ]
  },
  {
   "cell_type": "code",
   "execution_count": null,
   "metadata": {
    "collapsed": true
   },
   "outputs": [],
   "source": []
  }
 ],
 "metadata": {
  "kernelspec": {
   "display_name": "Python 2",
   "language": "python",
   "name": "python2"
  },
  "language_info": {
   "codemirror_mode": {
    "name": "ipython",
    "version": 2
   },
   "file_extension": ".py",
   "mimetype": "text/x-python",
   "name": "python",
   "nbconvert_exporter": "python",
   "pygments_lexer": "ipython2",
   "version": "2.7.13"
  }
 },
 "nbformat": 4,
 "nbformat_minor": 2
}

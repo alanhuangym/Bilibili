{
 "cells": [
  {
   "cell_type": "code",
   "execution_count": null,
   "metadata": {
    "collapsed": false,
    "scrolled": true
   },
   "outputs": [],
   "source": [
    "'''\n",
    "<d p=\"时间,模式,字体大小,颜色,时间戳,弹幕池,用户ID的CRC32b加密,弹幕ID\">内容</d>\n",
    "'''"
   ]
  },
  {
   "cell_type": "code",
   "execution_count": 55,
   "metadata": {
    "collapsed": false
   },
   "outputs": [],
   "source": [
    "client = pymongo.MongoClient(\"localhost\", 27017)\n",
    "db = client.mydb\n",
    "db.collection_names()\n",
    "books = db['book']\n",
    "books.find_one()\n",
    "for i in books.find():\n",
    "    print i"
   ]
  },
  {
   "cell_type": "markdown",
   "metadata": {},
   "source": [
    "# Now start to crawl the av numbers"
   ]
  },
  {
   "cell_type": "code",
   "execution_count": 11,
   "metadata": {
    "collapsed": true
   },
   "outputs": [],
   "source": [
    "import pymongo\n",
    "client = pymongo.MongoClient(\"localhost\", 27017) # Connect to the db server\n",
    "db = client.bilibili\n",
    "videos = db['videos']\n",
    "videos2 = db['videos2']"
   ]
  },
  {
   "cell_type": "code",
   "execution_count": 5,
   "metadata": {
    "collapsed": false,
    "scrolled": true
   },
   "outputs": [],
   "source": [
    "import requests\n",
    "from bs4 import BeautifulSoup\n",
    "import re\n",
    "p = re.compile(r'cid=(\\d+)&')\n",
    "\n",
    "def spider(url):\n",
    "    flag = False\n",
    "    VideoID = url.replace(\"http://bilibili.com/video/av\", \"\")\n",
    "    with requests.Session() as s:\n",
    "        html = s.get(url)\n",
    "        soup = BeautifulSoup(html.content,'html.parser')\n",
    "    a = soup.find('div', class_ = 'usname')\n",
    "    if a:\n",
    "        flag = True\n",
    "        \n",
    "    if flag:\n",
    "        # Poster ID and Poster Name\n",
    "        posterid = a.a['mid']\n",
    "        username = a.a['title']\n",
    "        # The cataglog of video\n",
    "        b = soup.find_all('span', typeof=\"v:Breadcrumb\")\n",
    "        cata1 = b[0].a.string\n",
    "        cata2 = b[1].a.string\n",
    "        # Title\n",
    "        d = soup.find('div', class_ = 'v-title')\n",
    "        title = d.string\n",
    "        # Time\n",
    "        e = soup.find('time')\n",
    "        time = e.string\n",
    "        # Cid\n",
    "        f = soup.find('div', class_= 'scontent').script.string\n",
    "        cid = str(p.findall(f)[0])\n",
    "        # Video Info Click and Duration\n",
    "        info_url = \"http://interface.bilibili.com/player?id=cid:\" + str(cid) + \"&aid=\" + str(VideoID)\n",
    "        with requests.Session() as s:\n",
    "            video_info = s.get(info_url)\n",
    "            soup2 = BeautifulSoup(video_info.content,'html.parser')\n",
    "        click = soup2.click.string\n",
    "        duration = soup2.duration.string\n",
    "        try:\n",
    "            video = {'VideoID':str(VideoID), 'cid':cid, 'title':title, 'catalog1':cata1,'catalog2':cata2, 'time':time, 'click':click,\n",
    "                    'duration':duration, 'posterid':posterid, 'postername':username}\n",
    "            videos.insert_one(video)\n",
    "            print \"Succeed: av\" + str(VideoID)\n",
    "        except:\n",
    "            print \"Error\""
   ]
  },
  {
   "cell_type": "code",
   "execution_count": 10,
   "metadata": {
    "collapsed": true
   },
   "outputs": [],
   "source": [
    "urls = []\n",
    "for i in range(1001, 8000000):\n",
    "    url = 'http://bilibili.com/video/av' + str(i)\n",
    "    urls.append(url)"
   ]
  },
  {
   "cell_type": "code",
   "execution_count": 6,
   "metadata": {
    "collapsed": true
   },
   "outputs": [],
   "source": []
  },
  {
   "cell_type": "code",
   "execution_count": 12,
   "metadata": {
    "collapsed": false
   },
   "outputs": [
    {
     "ename": "IndexError",
     "evalue": "list index out of range",
     "output_type": "error",
     "traceback": [
      "\u001b[0;31m---------------------------------------------------------------------------\u001b[0m",
      "\u001b[0;31mIndexError\u001b[0m                                Traceback (most recent call last)",
      "\u001b[0;32m<ipython-input-12-18d523c2b145>\u001b[0m in \u001b[0;36m<module>\u001b[0;34m()\u001b[0m\n\u001b[1;32m    109\u001b[0m     \u001b[1;32mprint\u001b[0m \u001b[0me\u001b[0m\u001b[1;33m\u001b[0m\u001b[0m\n\u001b[1;32m    110\u001b[0m     \u001b[0mtime\u001b[0m\u001b[1;33m.\u001b[0m\u001b[0msleep\u001b[0m\u001b[1;33m(\u001b[0m\u001b[1;36m300\u001b[0m\u001b[1;33m)\u001b[0m\u001b[1;33m\u001b[0m\u001b[0m\n\u001b[0;32m--> 111\u001b[0;31m     \u001b[0mresults\u001b[0m \u001b[1;33m=\u001b[0m \u001b[0mpool\u001b[0m\u001b[1;33m.\u001b[0m\u001b[0mmap\u001b[0m\u001b[1;33m(\u001b[0m\u001b[0mspider\u001b[0m\u001b[1;33m,\u001b[0m \u001b[0murls\u001b[0m\u001b[1;33m)\u001b[0m\u001b[1;33m\u001b[0m\u001b[0m\n\u001b[0m\u001b[1;32m    112\u001b[0m \u001b[1;33m\u001b[0m\u001b[0m\n\u001b[1;32m    113\u001b[0m \u001b[0mpool\u001b[0m\u001b[1;33m.\u001b[0m\u001b[0mclose\u001b[0m\u001b[1;33m(\u001b[0m\u001b[1;33m)\u001b[0m\u001b[1;33m\u001b[0m\u001b[0m\n",
      "\u001b[0;32md:\\ProgramData\\Anaconda3\\envs\\python27\\lib\\multiprocessing\\pool.pyc\u001b[0m in \u001b[0;36mmap\u001b[0;34m(self, func, iterable, chunksize)\u001b[0m\n\u001b[1;32m    249\u001b[0m         '''\n\u001b[1;32m    250\u001b[0m         \u001b[1;32massert\u001b[0m \u001b[0mself\u001b[0m\u001b[1;33m.\u001b[0m\u001b[0m_state\u001b[0m \u001b[1;33m==\u001b[0m \u001b[0mRUN\u001b[0m\u001b[1;33m\u001b[0m\u001b[0m\n\u001b[0;32m--> 251\u001b[0;31m         \u001b[1;32mreturn\u001b[0m \u001b[0mself\u001b[0m\u001b[1;33m.\u001b[0m\u001b[0mmap_async\u001b[0m\u001b[1;33m(\u001b[0m\u001b[0mfunc\u001b[0m\u001b[1;33m,\u001b[0m \u001b[0miterable\u001b[0m\u001b[1;33m,\u001b[0m \u001b[0mchunksize\u001b[0m\u001b[1;33m)\u001b[0m\u001b[1;33m.\u001b[0m\u001b[0mget\u001b[0m\u001b[1;33m(\u001b[0m\u001b[1;33m)\u001b[0m\u001b[1;33m\u001b[0m\u001b[0m\n\u001b[0m\u001b[1;32m    252\u001b[0m \u001b[1;33m\u001b[0m\u001b[0m\n\u001b[1;32m    253\u001b[0m     \u001b[1;32mdef\u001b[0m \u001b[0mimap\u001b[0m\u001b[1;33m(\u001b[0m\u001b[0mself\u001b[0m\u001b[1;33m,\u001b[0m \u001b[0mfunc\u001b[0m\u001b[1;33m,\u001b[0m \u001b[0miterable\u001b[0m\u001b[1;33m,\u001b[0m \u001b[0mchunksize\u001b[0m\u001b[1;33m=\u001b[0m\u001b[1;36m1\u001b[0m\u001b[1;33m)\u001b[0m\u001b[1;33m:\u001b[0m\u001b[1;33m\u001b[0m\u001b[0m\n",
      "\u001b[0;32md:\\ProgramData\\Anaconda3\\envs\\python27\\lib\\multiprocessing\\pool.pyc\u001b[0m in \u001b[0;36mget\u001b[0;34m(self, timeout)\u001b[0m\n\u001b[1;32m    565\u001b[0m             \u001b[1;32mreturn\u001b[0m \u001b[0mself\u001b[0m\u001b[1;33m.\u001b[0m\u001b[0m_value\u001b[0m\u001b[1;33m\u001b[0m\u001b[0m\n\u001b[1;32m    566\u001b[0m         \u001b[1;32melse\u001b[0m\u001b[1;33m:\u001b[0m\u001b[1;33m\u001b[0m\u001b[0m\n\u001b[0;32m--> 567\u001b[0;31m             \u001b[1;32mraise\u001b[0m \u001b[0mself\u001b[0m\u001b[1;33m.\u001b[0m\u001b[0m_value\u001b[0m\u001b[1;33m\u001b[0m\u001b[0m\n\u001b[0m\u001b[1;32m    568\u001b[0m \u001b[1;33m\u001b[0m\u001b[0m\n\u001b[1;32m    569\u001b[0m     \u001b[1;32mdef\u001b[0m \u001b[0m_set\u001b[0m\u001b[1;33m(\u001b[0m\u001b[0mself\u001b[0m\u001b[1;33m,\u001b[0m \u001b[0mi\u001b[0m\u001b[1;33m,\u001b[0m \u001b[0mobj\u001b[0m\u001b[1;33m)\u001b[0m\u001b[1;33m:\u001b[0m\u001b[1;33m\u001b[0m\u001b[0m\n",
      "\u001b[0;31mIndexError\u001b[0m: list index out of range"
     ]
    }
   ],
   "source": [
    "# -*-coding:utf8-*-\n",
    "\n",
    "from lxml import etree\n",
    "from multiprocessing.dummy import Pool as ThreadPool\n",
    "import requests\n",
    "import time\n",
    "import sys\n",
    "import re\n",
    "import json\n",
    "\n",
    "\n",
    "reload(sys)\n",
    "\n",
    "sys.setdefaultencoding('utf-8')\n",
    "\n",
    "# id av cid title tminfo time click danmu coins favourites duration honor_click honor_coins honor_favourites\n",
    "# mid name article fans tags[3] common\n",
    "\n",
    "\n",
    "head = {\n",
    "    'User-Agent': 'Mozilla/5.0 (Windows NT 6.3; WOW64) AppleWebKit/537.36 (KHTML, like Gecko) Chrome/43.0.2357.130 Safari/537.36'\n",
    "}\n",
    "\n",
    "def spider(url):\n",
    "    html = requests.get(url, headers=head)\n",
    "    selector = etree.HTML(html.text)\n",
    "    content = selector.xpath(\"//html\")\n",
    "    for each in content:\n",
    "        title = each.xpath('//div[@class=\"v-title\"]/h1/@title')\n",
    "        if title:\n",
    "            av = url.replace(\"http://bilibili.com/video/av\", \"\")\n",
    "            title = title[0]\n",
    "            tminfo1_log = each.xpath('//div[@class=\"tminfo\"]/a/text()')\n",
    "            tminfo2_log = each.xpath('//div[@class=\"tminfo\"]/span[1]/a/text()')\n",
    "            tminfo3_log = each.xpath('//div[@class=\"tminfo\"]/span[2]/a/text()')\n",
    "            if tminfo1_log:\n",
    "                tminfo1 = tminfo1_log[0]\n",
    "            else:\n",
    "                tminfo1 = \"\"\n",
    "            if tminfo2_log:\n",
    "                tminfo2 = tminfo2_log[0]\n",
    "            else:\n",
    "                tminfo2 = \"\"\n",
    "            if tminfo3_log:\n",
    "                tminfo3 = tminfo3_log[0]\n",
    "            else:\n",
    "                tminfo3 = \"\"\n",
    "            tminfo = tminfo1 + '-' + tminfo2 + '-' + tminfo3\n",
    "            time_log = each.xpath('//div[@class=\"tminfo\"]/time/i/text()')\n",
    "            mid_log = each.xpath('//div[@class=\"usname\"]/a/@mid')\n",
    "            username_log = each.xpath('//div[@class=\"usname\"]/a/@title')\n",
    "            if time_log:\n",
    "                time = time_log[0]\n",
    "            else:\n",
    "                time = \"\"\n",
    "            if mid_log:\n",
    "                mid = mid_log[0]\n",
    "            else:\n",
    "                mid = \"\"\n",
    "            if username_log:\n",
    "                username = username_log[0]\n",
    "            else:\n",
    "                username = \"\"\n",
    "\n",
    "            cid_html_1 = each.xpath('//div[@class=\"scontent\"]/iframe/@src')\n",
    "            cid_html_2 = each.xpath('//div[@class=\"scontent\"]/script/text()')\n",
    "            if cid_html_1 or cid_html_2:\n",
    "                if cid_html_1:\n",
    "                    cid_html = cid_html_1[0]\n",
    "                else:\n",
    "                    cid_html = cid_html_2[0]\n",
    "\n",
    "                cids = re.findall(r'cid=.+&aid', cid_html)\n",
    "                cid = cids[0].replace(\"cid=\", \"\").replace(\"&aid\", \"\")\n",
    "                info_url = \"http://interface.bilibili.com/player?id=cid:\" + str(cid) + \"&aid=\" + av\n",
    "                video_info = requests.get(info_url)\n",
    "                video_selector = etree.HTML(video_info.text)\n",
    "                for video_each in video_selector:\n",
    "                    click_log = video_each.xpath('//click/text()')\n",
    "                    duration_log = video_each.xpath('//duration/text()')\n",
    "                    if click_log:\n",
    "                        click = click_log[0]\n",
    "                    else:\n",
    "                        click = -1\n",
    "                    if duration_log:\n",
    "                        duration = duration_log[0]\n",
    "                    else:\n",
    "                        duration = \"\"\n",
    "                try:\n",
    "\n",
    "                    video = {'VideoID':str(av), 'cid':cid, 'title':title, 'catalog':tminfo, 'time':time, 'click':click,\n",
    "                            'duration':duration, 'posterid':mid, 'postername':username}\n",
    "                    videos2.insert_one(video)\n",
    "                    print \"Succeed: av\" + str(av)\n",
    "                except :\n",
    "                    print \"Error \"\n",
    "            else:\n",
    "                print \"Error_noCid:\" + url\n",
    "        else:\n",
    "            print \"Error_404: \" + url\n",
    "\n",
    "\n",
    "pool = ThreadPool(8)\n",
    "# results = pool.map(spider, urls)\n",
    "try:\n",
    "    results = pool.map(spider, urls)\n",
    "except Exception, e:\n",
    "    # print 'ConnectionError'\n",
    "    print e\n",
    "    time.sleep(300)\n",
    "    results = pool.map(spider, urls)\n",
    "\n",
    "pool.close()\n",
    "pool.join()"
   ]
  },
  {
   "cell_type": "code",
   "execution_count": null,
   "metadata": {
    "collapsed": false
   },
   "outputs": [],
   "source": [
    "print 'done'"
   ]
  },
  {
   "cell_type": "code",
   "execution_count": null,
   "metadata": {
    "collapsed": true
   },
   "outputs": [],
   "source": []
  }
 ],
 "metadata": {
  "kernelspec": {
   "display_name": "Python 2",
   "language": "python",
   "name": "python2"
  },
  "language_info": {
   "codemirror_mode": {
    "name": "ipython",
    "version": 2
   },
   "file_extension": ".py",
   "mimetype": "text/x-python",
   "name": "python",
   "nbconvert_exporter": "python",
   "pygments_lexer": "ipython2",
   "version": "2.7.13"
  }
 },
 "nbformat": 4,
 "nbformat_minor": 2
}

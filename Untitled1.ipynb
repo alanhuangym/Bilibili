{
 "cells": [
  {
   "cell_type": "code",
   "execution_count": 2,
   "metadata": {
    "collapsed": false
   },
   "outputs": [],
   "source": [
    "import json\n",
    "import base64\n",
    "import requests\n",
    "import random\n",
    "from bs4 import BeautifulSoup\n",
    "import re"
   ]
  },
  {
   "cell_type": "code",
   "execution_count": 7,
   "metadata": {
    "collapsed": false
   },
   "outputs": [
    {
     "name": "stdout",
     "output_type": "stream",
     "text": [
      "Failed!( Reason:为了您的帐号安全，请输入验证码 )\n",
      "Get Cookies Finish!( Num:0)\n"
     ]
    }
   ],
   "source": [
    "myWeiBo = [\n",
    "    {'no': '13789049934', 'psw': 'soukao086'},\n",
    "    \n",
    "]\n",
    "''' \n",
    "{'no': '13549766017', 'psw': 'jianghe352'},\n",
    "{'no': '18287989623', 'psw': 'puvjzoa5'},\n",
    "    {'no': '18287978637', 'psw': 'tbdcu1oo'},\n",
    "    {'no': '18287994243', 'psw': 'dqh8vvtcc'},\n",
    "    {'no': '18287992015', 'psw': 'hyky1dzbi'},\n",
    "    {'no': '17747280149', 'psw': 'mubgj8eb'},\n",
    "    {'no': '17747282394', 'psw': '3grbmsmk'},\n",
    "    {'no': '17747280744', 'psw': 'vgql5lni'},\n",
    "    {'no': '17747281024', 'psw': '7prchmggm'},\n",
    "    {'no': '17747281954', 'psw': '2hlpbuewb'},\n",
    "'''\n",
    "\n",
    "def getCookies(weibo):\n",
    "    \"\"\" 获取Cookies \"\"\"\n",
    "    cookies = []\n",
    "    loginURL = r'https://login.sina.com.cn/sso/login.php?client=ssologin.js(v1.4.15)'\n",
    "    for elem in weibo:\n",
    "        account = elem['no']\n",
    "        password = elem['psw']\n",
    "        username = base64.b64encode(account.encode('utf-8')).decode('utf-8')\n",
    "        postData = {\n",
    "            \"entry\": \"sso\",\n",
    "            \"gateway\": \"1\",\n",
    "            \"from\": \"null\",\n",
    "            \"savestate\": \"30\",\n",
    "            \"useticket\": \"0\",\n",
    "            \"pagerefer\": \"\",\n",
    "            \"vsnf\": \"1\",\n",
    "            \"su\": username,\n",
    "            \"service\": \"sso\",\n",
    "            \"sp\": password,\n",
    "            \"sr\": \"1440*900\",\n",
    "            \"encoding\": \"UTF-8\",\n",
    "            \"cdult\": \"3\",\n",
    "            \"domain\": \"sina.com.cn\",\n",
    "            \"prelt\": \"0\",\n",
    "            \"returntype\": \"TEXT\",\n",
    "        }\n",
    "        session = requests.Session()\n",
    "        r = session.post(loginURL, data=postData)\n",
    "        jsonStr = r.content.decode('gbk')\n",
    "        info = json.loads(jsonStr)\n",
    "        if info[\"retcode\"] == \"0\":\n",
    "            print \"Get Cookie Success!( Account:%s )\" % account\n",
    "            cookie = session.cookies.get_dict()\n",
    "            cookies.append(cookie)\n",
    "        else:\n",
    "            print \"Failed!( Reason:%s )\" % info['reason']\n",
    "    return cookies\n",
    "\n",
    "\n",
    "cookies = getCookies(myWeiBo)\n",
    "print \"Get Cookies Finish!( Num:%d)\" % len(cookies)"
   ]
  },
  {
   "cell_type": "code",
   "execution_count": null,
   "metadata": {
    "collapsed": true
   },
   "outputs": [],
   "source": []
  }
 ],
 "metadata": {
  "kernelspec": {
   "display_name": "Python 2",
   "language": "python",
   "name": "python2"
  },
  "language_info": {
   "codemirror_mode": {
    "name": "ipython",
    "version": 2
   },
   "file_extension": ".py",
   "mimetype": "text/x-python",
   "name": "python",
   "nbconvert_exporter": "python",
   "pygments_lexer": "ipython2",
   "version": "2.7.13"
  }
 },
 "nbformat": 4,
 "nbformat_minor": 2
}
